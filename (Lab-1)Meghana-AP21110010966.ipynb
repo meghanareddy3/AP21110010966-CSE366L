{
 "cells": [
  {
   "cell_type": "markdown",
   "id": "dc4e9220",
   "metadata": {},
   "source": [
    "Machine Learning Lab-1\n",
    "AP21110010966\n",
    "\n",
    "Introduction To Numpy"
   ]
  },
  {
   "cell_type": "markdown",
   "id": "0ee2c07f",
   "metadata": {},
   "source": [
    "1) Write a NumPy program to multiply two given arrays of same size element-by-element."
   ]
  },
  {
   "cell_type": "code",
   "execution_count": 1,
   "id": "7c1cc941",
   "metadata": {},
   "outputs": [
    {
     "name": "stdout",
     "output_type": "stream",
     "text": [
      "Array 1: [1 2 3 4]\n",
      "Array 2: [5 6 7 8]\n",
      "Element-wise multiplication result: [ 5 12 21 32]\n"
     ]
    }
   ],
   "source": [
    "import numpy as np\n",
    "array1 = np.array([1, 2, 3, 4])\n",
    "array2 = np.array([5, 6, 7, 8])\n",
    "\n",
    "result_array = np.multiply(array1, array2)\n",
    "print(\"Array 1:\", array1)\n",
    "print(\"Array 2:\", array2)\n",
    "print(\"Element-wise multiplication result:\", result_array)\n",
    "\n"
   ]
  },
  {
   "cell_type": "markdown",
   "id": "3646a351",
   "metadata": {},
   "source": [
    "2.Write a NumPy program to find the missing data in a given array"
   ]
  },
  {
   "cell_type": "code",
   "execution_count": 2,
   "id": "c7adccb1",
   "metadata": {},
   "outputs": [
    {
     "name": "stdout",
     "output_type": "stream",
     "text": [
      "Original Array: [ 1.  2. nan  4.  5. nan  7.]\n",
      "Missing Data Mask: [False False  True False False  True False]\n"
     ]
    }
   ],
   "source": [
    "import numpy as np\n",
    "\n",
    "array_with_missing_data = np.array([1.0, 2.0, np.nan, 4.0, 5.0, np.nan, 7.0])\n",
    "\n",
    "missing_data_mask = np.isnan(array_with_missing_data)\n",
    "\n",
    "print(\"Original Array:\", array_with_missing_data)\n",
    "print(\"Missing Data Mask:\", missing_data_mask)"
   ]
  },
  {
   "cell_type": "markdown",
   "id": "dd0298d1",
   "metadata": {},
   "source": [
    "3. write a NumPy program to test whether each element of a 1-D array is also present in a second array."
   ]
  },
  {
   "cell_type": "code",
   "execution_count": 3,
   "id": "629bc2ac",
   "metadata": {},
   "outputs": [
    {
     "name": "stdout",
     "output_type": "stream",
     "text": [
      "Array 1: [1 2 3 4 5]\n",
      "Array 2: [3 5 7 9]\n",
      "Is each element of Array 1 present in Array 2? [False False  True False  True]\n"
     ]
    }
   ],
   "source": [
    "import numpy as np\n",
    "\n",
    "array1 = np.array([1, 2, 3, 4, 5])\n",
    "array2 = np.array([3, 5, 7, 9])\n",
    "\n",
    "result = np.isin(array1, array2)\n",
    "\n",
    "print(\"Array 1:\", array1)\n",
    "print(\"Array 2:\", array2)\n",
    "print(\"Is each element of Array 1 present in Array 2?\", result)"
   ]
  },
  {
   "cell_type": "markdown",
   "id": "966180ea",
   "metadata": {},
   "source": [
    "4) write a numpy program to save a numpy array to text file"
   ]
  },
  {
   "cell_type": "code",
   "execution_count": 4,
   "id": "32794e36",
   "metadata": {},
   "outputs": [
    {
     "name": "stdout",
     "output_type": "stream",
     "text": [
      "Array has been saved to 'output_array.txt'\n"
     ]
    }
   ],
   "source": [
    "import numpy as np\n",
    "\n",
    "my_array = np.array([[1, 2, 3], [4, 5, 6], [7, 8, 9]])\n",
    "np.savetxt('output_array.txt', my_array, fmt='%d', delimiter=',')\n",
    "\n",
    "print(\"Array has been saved to 'output_array.txt'\")"
   ]
  },
  {
   "cell_type": "markdown",
   "id": "e7408dde",
   "metadata": {},
   "source": [
    "5)write a numpy program to create a 1-D array of 30 evenly spaced elements between 2.5 and 6.5 inclusive."
   ]
  },
  {
   "cell_type": "code",
   "execution_count": 5,
   "id": "174d9e0e",
   "metadata": {},
   "outputs": [
    {
     "name": "stdout",
     "output_type": "stream",
     "text": [
      "1-D array of 30 evenly spaced elements between 2.5 and 6.5 (inclusive):\n",
      "[2.5        2.63793103 2.77586207 2.9137931  3.05172414 3.18965517\n",
      " 3.32758621 3.46551724 3.60344828 3.74137931 3.87931034 4.01724138\n",
      " 4.15517241 4.29310345 4.43103448 4.56896552 4.70689655 4.84482759\n",
      " 4.98275862 5.12068966 5.25862069 5.39655172 5.53448276 5.67241379\n",
      " 5.81034483 5.94827586 6.0862069  6.22413793 6.36206897 6.5       ]\n"
     ]
    }
   ],
   "source": [
    "import numpy as np\n",
    "\n",
    "my_array = np.linspace(2.5, 6.5, 30)\n",
    "\n",
    "print(\"1-D array of 30 evenly spaced elements between 2.5 and 6.5 (inclusive):\")\n",
    "print(my_array)"
   ]
  },
  {
   "cell_type": "markdown",
   "id": "f36c48f9",
   "metadata": {},
   "source": [
    "Introduction to Pandas (series and dataframes)"
   ]
  },
  {
   "cell_type": "markdown",
   "id": "9d0ee767",
   "metadata": {},
   "source": [
    "1) Write a Pandas program to convert series of lists to one series"
   ]
  },
  {
   "cell_type": "code",
   "execution_count": 6,
   "id": "03a6b353",
   "metadata": {},
   "outputs": [
    {
     "name": "stdout",
     "output_type": "stream",
     "text": [
      "Original Series of Lists:\n",
      "0    [1, 2, 3]\n",
      "1       [4, 5]\n",
      "2    [6, 7, 8]\n",
      "dtype: object\n",
      "\n",
      "Converted Series:\n",
      "0    1\n",
      "0    2\n",
      "0    3\n",
      "1    4\n",
      "1    5\n",
      "2    6\n",
      "2    7\n",
      "2    8\n",
      "dtype: object\n"
     ]
    }
   ],
   "source": [
    "import pandas as pd\n",
    "\n",
    "series_of_lists = pd.Series([[1, 2, 3], [4, 5], [6, 7, 8]])\n",
    "\n",
    "result_series = series_of_lists.explode()\n",
    "\n",
    "print(\"Original Series of Lists:\")\n",
    "print(series_of_lists)\n",
    "\n",
    "print(\"\\nConverted Series:\")\n",
    "print(result_series)"
   ]
  },
  {
   "cell_type": "markdown",
   "id": "55c005cb",
   "metadata": {},
   "source": [
    "2) write a Pandas program to create a subset of a given series based on value and condition"
   ]
  },
  {
   "cell_type": "code",
   "execution_count": 7,
   "id": "5632e549",
   "metadata": {},
   "outputs": [
    {
     "name": "stdout",
     "output_type": "stream",
     "text": [
      "Original Series:\n",
      "0    10\n",
      "1    20\n",
      "2    30\n",
      "3    40\n",
      "4    50\n",
      "dtype: int64\n",
      "\n",
      "Subset based on condition (values greater than 30):\n",
      "3    40\n",
      "4    50\n",
      "dtype: int64\n"
     ]
    }
   ],
   "source": [
    "import pandas as pd\n",
    "\n",
    "my_series = pd.Series([10, 20, 30, 40, 50])\n",
    "condition = my_series > 30\n",
    "subset = my_series[condition]\n",
    "\n",
    "print(\"Original Series:\")\n",
    "print(my_series)\n",
    "\n",
    "print(\"\\nSubset based on condition (values greater than 30):\")\n",
    "print(subset)"
   ]
  },
  {
   "cell_type": "markdown",
   "id": "3396c7eb",
   "metadata": {},
   "source": [
    "3) write a pandas program to display most frequent value in a given series and replace everthing else as 'Other' in the series."
   ]
  },
  {
   "cell_type": "code",
   "execution_count": 8,
   "id": "27c2684d",
   "metadata": {},
   "outputs": [
    {
     "name": "stdout",
     "output_type": "stream",
     "text": [
      "0    Other\n",
      "1    Other\n",
      "2    Other\n",
      "3    Other\n",
      "4    Other\n",
      "5    Other\n",
      "6        4\n",
      "7        4\n",
      "8        4\n",
      "9        4\n",
      "dtype: object\n"
     ]
    }
   ],
   "source": [
    "import pandas as pd\n",
    "\n",
    "my_series = pd.Series([1, 2, 2, 3, 3, 3, 4, 4, 4, 4])\n",
    "most_frequent_value = my_series.mode().iloc[0]\n",
    "my_series = my_series.apply(lambda x: most_frequent_value if x == most_frequent_value else 'Other')\n",
    "\n",
    "print(my_series)"
   ]
  },
  {
   "cell_type": "markdown",
   "id": "393a5cb4",
   "metadata": {},
   "source": [
    "4) Write a Pandas program to find the positions of numbers that are multiples of 5 of a given series.\n"
   ]
  },
  {
   "cell_type": "code",
   "execution_count": 9,
   "id": "f78bcc59",
   "metadata": {},
   "outputs": [
    {
     "name": "stdout",
     "output_type": "stream",
     "text": [
      "Original Series:\n",
      "0     1\n",
      "1     5\n",
      "2    10\n",
      "3    15\n",
      "4    20\n",
      "5    25\n",
      "6    30\n",
      "7    35\n",
      "8    40\n",
      "dtype: int64\n",
      "\n",
      "Positions of numbers that are multiples of 5:\n",
      "Int64Index([1, 2, 3, 4, 5, 6, 7, 8], dtype='int64')\n"
     ]
    }
   ],
   "source": [
    "import pandas as pd\n",
    "\n",
    "my_series = pd.Series([1, 5, 10, 15, 20, 25, 30, 35, 40])\n",
    "\n",
    "positions_of_multiples_of_5 = my_series.index[my_series % 5 == 0]\n",
    "\n",
    "print(\"Original Series:\")\n",
    "print(my_series)\n",
    "\n",
    "print(\"\\nPositions of numbers that are multiples of 5:\")\n",
    "print(positions_of_multiples_of_5)"
   ]
  },
  {
   "cell_type": "markdown",
   "id": "de4d2f8c",
   "metadata": {},
   "source": [
    "5)write a pandas program to calculate the number of character in each word in a given series."
   ]
  },
  {
   "cell_type": "code",
   "execution_count": 10,
   "id": "ac078ee1",
   "metadata": {},
   "outputs": [
    {
     "name": "stdout",
     "output_type": "stream",
     "text": [
      "Original Series:\n",
      "0        ram\n",
      "1        sam\n",
      "2     seetha\n",
      "3    lakshmi\n",
      "dtype: object\n",
      "\n",
      "Number of characters in each word:\n",
      "0    3\n",
      "1    3\n",
      "2    6\n",
      "3    7\n",
      "dtype: int64\n"
     ]
    }
   ],
   "source": [
    "import pandas as pd\n",
    "\n",
    "my_series = pd.Series(['ram', 'sam', 'seetha', 'lakshmi'])\n",
    "word_lengths = my_series.str.len()\n",
    "\n",
    "print(\"Original Series:\")\n",
    "print(my_series)\n",
    "\n",
    "print(\"\\nNumber of characters in each word:\")\n",
    "print(word_lengths)"
   ]
  },
  {
   "cell_type": "markdown",
   "id": "b074835d",
   "metadata": {},
   "source": [
    "6) write a pandas program to convert year-month string to dates adding a specified day to the month"
   ]
  },
  {
   "cell_type": "code",
   "execution_count": 11,
   "id": "bf6f5e54",
   "metadata": {},
   "outputs": [
    {
     "name": "stdout",
     "output_type": "stream",
     "text": [
      "  Year-Month String Converted Date\n",
      "0           2022-01     2022-01-06\n",
      "1           2022-02     2022-02-06\n",
      "2           2022-03     2022-03-06\n",
      "3           2022-04     2022-04-06\n"
     ]
    }
   ],
   "source": [
    "import pandas as pd\n",
    "\n",
    "year_month_strings = pd.Series(['2022-01', '2022-02', '2022-03', '2022-04'])\n",
    "specified_day = 6\n",
    "\n",
    "dates_with_specified_day = pd.to_datetime(year_month_strings + '-' + str(specified_day), format='%Y-%m-%d')\n",
    "\n",
    "result_df = pd.DataFrame({\n",
    "    'Year-Month String': year_month_strings,\n",
    "    'Converted Date': dates_with_specified_day\n",
    "})\n",
    "\n",
    "print(result_df)"
   ]
  },
  {
   "cell_type": "markdown",
   "id": "735fb5fe",
   "metadata": {},
   "source": [
    "7)write a pandas program to create and display a DataFrame from a specified dictionary data which has the index labels.\n"
   ]
  },
  {
   "cell_type": "code",
   "execution_count": 13,
   "id": "84590411",
   "metadata": {},
   "outputs": [
    {
     "name": "stdout",
     "output_type": "stream",
     "text": [
      "            Name  Age        City\n",
      "Person1      ram   20       India\n",
      "Person2      sam   19       Paris\n",
      "Person3   seetha   20      Korean\n",
      "Person4  lakshmi   19  California\n"
     ]
    }
   ],
   "source": [
    "import pandas as pd\n",
    "\n",
    "data = {\n",
    "    'Name': ['ram', 'sam', 'seetha', 'lakshmi'],\n",
    "    'Age': [20, 19, 20, 19],\n",
    "    'City': ['India', 'Paris', 'Korean', 'California']\n",
    "}\n",
    "index_labels = ['Person1', 'Person2', 'Person3', 'Person4']\n",
    "df = pd.DataFrame(data, index=index_labels)\n",
    "\n",
    "print(df)"
   ]
  },
  {
   "cell_type": "markdown",
   "id": "56ed1a7a",
   "metadata": {},
   "source": [
    "8) write a pandas program to select the rows where the number of attempts in the examination is greater than 2."
   ]
  },
  {
   "cell_type": "code",
   "execution_count": 14,
   "id": "debb2dd4",
   "metadata": {},
   "outputs": [
    {
     "name": "stdout",
     "output_type": "stream",
     "text": [
      "Original DataFrame:\n",
      "   Student  Attempts\n",
      "0      ram         1\n",
      "1      sam         4\n",
      "2   seetha         3\n",
      "3  lakshmi         2\n",
      "\n",
      "Selected rows where the number of attempts is greater than 2:\n",
      "  Student  Attempts\n",
      "1     sam         4\n",
      "2  seetha         3\n"
     ]
    }
   ],
   "source": [
    "import pandas as pd\n",
    "\n",
    "data = {\n",
    "    'Student': ['ram', 'sam', 'seetha', 'lakshmi'],\n",
    "    'Attempts': [1, 4, 3, 2]\n",
    "}\n",
    "df = pd.DataFrame(data)\n",
    "selected_rows = df[df['Attempts'] > 2]\n",
    "\n",
    "print(\"Original DataFrame:\")\n",
    "print(df)\n",
    "\n",
    "print(\"\\nSelected rows where the number of attempts is greater than 2:\")\n",
    "print(selected_rows)"
   ]
  },
  {
   "cell_type": "markdown",
   "id": "25e530aa",
   "metadata": {},
   "source": [
    "9) Write a pandas program to append a new row k to data frame with given values for each column. Now delete the new row and return the orginal DataFrame."
   ]
  },
  {
   "cell_type": "code",
   "execution_count": 15,
   "id": "2dcefa02",
   "metadata": {},
   "outputs": [
    {
     "name": "stdout",
     "output_type": "stream",
     "text": [
      "DataFrame with New Row:\n",
      "      Name\n",
      "0      ram\n",
      "1      sam\n",
      "2   seetha\n",
      "3  lakshmi\n",
      "4    Gowri\n",
      "\n",
      "Original DataFrame after Deleting 'Gowri':\n",
      "      Name\n",
      "0      ram\n",
      "1      sam\n",
      "2   seetha\n",
      "3  lakshmi\n"
     ]
    }
   ],
   "source": [
    "import pandas as pd\n",
    "\n",
    "data = {'Name': ['ram','sam','seetha','lakshmi']}\n",
    "df = pd.DataFrame(data)\n",
    "\n",
    "new_row_values = {'Name': 'Gowri'}\n",
    "df = pd.concat([df, pd.DataFrame([new_row_values])], ignore_index=True)\n",
    "\n",
    "print(\"DataFrame with New Row:\")\n",
    "print(df)\n",
    "\n",
    "df = df.drop(df[df['Name'] == 'Gowri'].index)\n",
    "\n",
    "print(\"\\nOriginal DataFrame after Deleting 'Gowri':\")\n",
    "print(df)"
   ]
  },
  {
   "cell_type": "markdown",
   "id": "1e28d74b",
   "metadata": {},
   "source": [
    "10) write a pandas program to sort the DataFrame first by 'name' in descending order, then by 'score' in ascending order."
   ]
  },
  {
   "cell_type": "code",
   "execution_count": 17,
   "id": "d118448f",
   "metadata": {},
   "outputs": [
    {
     "name": "stdout",
     "output_type": "stream",
     "text": [
      "DataFrame sorted by 'Name' in descending order, then by 'Score' in ascending order:\n",
      "      Name  Score\n",
      "2   seetha     75\n",
      "1      sam     90\n",
      "0      ram     85\n",
      "3  lakshmi     80\n"
     ]
    }
   ],
   "source": [
    "import pandas as pd\n",
    "\n",
    "data = {\n",
    "    'Name': ['ram','sam','seetha','lakshmi'],\n",
    "    'Score': [85, 90, 75, 80]\n",
    "}\n",
    "df = pd.DataFrame(data)\n",
    "df_sorted = df.sort_values(by=['Name', 'Score'], ascending=[False, True])\n",
    "\n",
    "print(\"DataFrame sorted by 'Name' in descending order, then by 'Score' in ascending order:\")\n",
    "print(df_sorted)"
   ]
  },
  {
   "cell_type": "markdown",
   "id": "1248c011",
   "metadata": {},
   "source": [
    "11) write a pandas program to replace the 'qualify' column contains the values 'yes' and 'no' with True and False."
   ]
  },
  {
   "cell_type": "code",
   "execution_count": 19,
   "id": "7a289623",
   "metadata": {},
   "outputs": [
    {
     "name": "stdout",
     "output_type": "stream",
     "text": [
      "DataFrame after replacing 'qualify' values:\n",
      "      Name  Qualify\n",
      "0      ram     True\n",
      "1      sam    False\n",
      "2   seetha     True\n",
      "3  lakshmi    False\n"
     ]
    }
   ],
   "source": [
    "import pandas as pd\n",
    "\n",
    "data = {\n",
    "    'Name': ['ram','sam','seetha','lakshmi'],\n",
    "    'Qualify': ['yes', 'no', 'yes', 'no']\n",
    "}\n",
    "df = pd.DataFrame(data)\n",
    "df['Qualify'] = df['Qualify'].replace({'yes': True, 'no': False})\n",
    "\n",
    "print(\"DataFrame after replacing 'qualify' values:\")\n",
    "print(df)"
   ]
  },
  {
   "cell_type": "markdown",
   "id": "674f2737",
   "metadata": {},
   "source": [
    "Write a Pandas program to remove infinite values from a given DataFrame."
   ]
  },
  {
   "cell_type": "code",
   "execution_count": 21,
   "id": "7dd0bcfc",
   "metadata": {},
   "outputs": [
    {
     "name": "stdout",
     "output_type": "stream",
     "text": [
      "Original DataFrame:\n",
      "      Name  Score\n",
      "0      ram   90.0\n",
      "1      sam    NaN\n",
      "2   seetha   75.0\n",
      "3  lakshmi    NaN\n",
      "\n",
      "DataFrame after removing infinite values:\n",
      "     Name  Score\n",
      "0     ram   90.0\n",
      "2  seetha   75.0\n"
     ]
    }
   ],
   "source": [
    "import pandas as pd\n",
    "import numpy as np\n",
    "\n",
    "data = {\n",
    "    'Name': ['ram','sam','seetha','lakshmi'],\n",
    "    'Score': [90, np.inf, 75, -np.inf]\n",
    "}\n",
    "df = pd.DataFrame(data)\n",
    "df.replace([np.inf, -np.inf], np.nan, inplace=True)\n",
    "df_cleaned = df.dropna()\n",
    "\n",
    "print(\"Original DataFrame:\")\n",
    "print(df)\n",
    "\n",
    "print(\"\\nDataFrame after removing infinite values:\")\n",
    "print(df_cleaned)"
   ]
  },
  {
   "cell_type": "code",
   "execution_count": null,
   "id": "2928b9c3",
   "metadata": {},
   "outputs": [],
   "source": []
  }
 ],
 "metadata": {
  "kernelspec": {
   "display_name": "Python 3 (ipykernel)",
   "language": "python",
   "name": "python3"
  },
  "language_info": {
   "codemirror_mode": {
    "name": "ipython",
    "version": 3
   },
   "file_extension": ".py",
   "mimetype": "text/x-python",
   "name": "python",
   "nbconvert_exporter": "python",
   "pygments_lexer": "ipython3",
   "version": "3.10.9"
  }
 },
 "nbformat": 4,
 "nbformat_minor": 5
}
