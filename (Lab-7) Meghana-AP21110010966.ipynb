{
 "cells": [
  {
   "cell_type": "markdown",
   "id": "27aa9737",
   "metadata": {},
   "source": [
    "week-7 AP21110010966\n"
   ]
  },
  {
   "cell_type": "markdown",
   "id": "1dfa6497",
   "metadata": {},
   "source": [
    "### 1) Create a vector (array) of 1XN dimension representing N-dimensional feature vector of a sample. Write a program tocompute the mean and variance of the elements present in the array."
   ]
  },
  {
   "cell_type": "code",
   "execution_count": 1,
   "id": "d36a9dc9",
   "metadata": {},
   "outputs": [
    {
     "name": "stdout",
     "output_type": "stream",
     "text": [
      "Enter the dimension of the vector: 7\n",
      "Enter element 1: 3\n",
      "Enter element 2: 2\n",
      "Enter element 3: 4\n",
      "Enter element 4: 7\n",
      "Enter element 5: 8\n",
      "Enter element 6: 1\n",
      "Enter element 7: 2\n",
      "Sample Vector: [3. 2. 4. 7. 8. 1. 2.]\n",
      "Mean: 3.857142857142857\n",
      "Sample Variance: 7.1428571428571415\n",
      "Population Variance: 6.1224489795918355\n"
     ]
    }
   ],
   "source": [
    "### population formula - σ2 = ∑ni=1 (xi – x̅)2 / N\n",
    "\n",
    "### sample variance formula - s2 = ∑ni=1 (xi – x̅)2 / N-1\n",
    "\n",
    "import numpy as np\n",
    "\n",
    "def compute_mean(array):\n",
    "    mean = np.sum(array) / len(array)\n",
    "    return mean\n",
    "\n",
    "def compute_sample_variance(array):\n",
    "    mean = compute_mean(array)\n",
    "    squared_diff = np.sum((array - mean) ** 2)\n",
    "    variance = squared_diff / (len(array) - 1)\n",
    "    return variance\n",
    "\n",
    "def compute_population_variance(array):\n",
    "    mean = compute_mean(array)\n",
    "    squared_diff = np.sum((array - mean) ** 2)\n",
    "    variance = squared_diff / len(array)\n",
    "    return variance\n",
    "\n",
    "def main():\n",
    "    N = int(input(\"Enter the dimension of the vector: \"))\n",
    "    sample_vector = np.zeros(N)\n",
    "    for i in range(N):\n",
    "        sample_vector[i] = float(input(f\"Enter element {i+1}: \"))\n",
    "\n",
    "    print(\"Sample Vector:\", sample_vector)\n",
    "    mean = compute_mean(sample_vector)\n",
    "    sample_variance = compute_sample_variance(sample_vector)\n",
    "    population_variance = compute_population_variance(sample_vector)\n",
    "\n",
    "    print(\"Mean:\", mean)\n",
    "    print(\"Sample Variance:\", sample_variance)\n",
    "    print(\"Population Variance:\", population_variance)\n",
    "\n",
    "if __name__ == \"__main__\":\n",
    "    main()"
   ]
  },
  {
   "cell_type": "markdown",
   "id": "3a889f37",
   "metadata": {},
   "source": [
    "### 2) Create two vectors each of dimension 1XM each representing N- dimensional feature vector of a sample. Write a program to compute the Covariance between them."
   ]
  },
  {
   "cell_type": "code",
   "execution_count": 6,
   "id": "8424dbfc",
   "metadata": {},
   "outputs": [
    {
     "name": "stdout",
     "output_type": "stream",
     "text": [
      "Enter the dimension of vector 1: 5\n",
      "Enter the dimension of vector 2: 5\n",
      "Enter 5 elements for vector 1: 2 4 7\n",
      "Enter 5 elements for vector 2: 7 4 6\n",
      "Vector 1: [2. 4. 7.]\n",
      "Vector 2: [7. 4. 6.]\n",
      "Covariance between Vector 1 and Vector 2: -0.8333333333333331\n"
     ]
    }
   ],
   "source": [
    "### cov(X, Y) = Σ((Xi - X̄) * (Yi - Ȳ)) / n-1\n",
    "\n",
    "\n",
    "import numpy as np\n",
    "\n",
    "def compute_mean(array):\n",
    "    mean = np.sum(array) / len(array)\n",
    "    return mean\n",
    "\n",
    "def compute_covariance(vector1, vector2):\n",
    "    mean1 = compute_mean(vector1)\n",
    "    mean2 = compute_mean(vector2)\n",
    "    covariance = np.sum((vector1 - mean1) * (vector2 - mean2)) / (len(vector1)-1)\n",
    "    return covariance\n",
    "\n",
    "def main():\n",
    "    M = int(input(\"Enter the dimension of vector 1: \"))\n",
    "    N = int(input(\"Enter the dimension of vector 2: \"))\n",
    "\n",
    "    vector1 = np.array(input(f\"Enter {M} elements for vector 1: \").split(), dtype=float)\n",
    "\n",
    "    vector2 = np.array(input(f\"Enter {N} elements for vector 2: \").split(), dtype=float)\n",
    "\n",
    "    print(\"Vector 1:\", vector1)\n",
    "    print(\"Vector 2:\", vector2)\n",
    "\n",
    "    covariance = compute_covariance(vector1, vector2)\n",
    "\n",
    "    print(\"Covariance between Vector 1 and Vector 2:\", covariance)\n",
    "\n",
    "if __name__ == \"__main__\":\n",
    "    main()\n"
   ]
  },
  {
   "cell_type": "markdown",
   "id": "e5e180ae",
   "metadata": {},
   "source": [
    "### 3) Create two vectors each of dimension 1XN. Write a program to compute the Correlation between them."
   ]
  },
  {
   "cell_type": "code",
   "execution_count": 8,
   "id": "42f7c183",
   "metadata": {},
   "outputs": [
    {
     "name": "stdout",
     "output_type": "stream",
     "text": [
      "Enter the dimension of the vectors: 5\n",
      "Enter 5 elements for vector 1: 6 8 9 3 5\n",
      "Enter 5 elements for vector 2: 6 5 2 1 9\n",
      "Vector 1: [6. 8. 9. 3. 5.]\n",
      "Vector 2: [6. 5. 2. 1. 9.]\n",
      "Correlation between Vector 1 and Vector 2: -0.019576507669382227\n"
     ]
    }
   ],
   "source": [
    "### r = Σ((Xi - X̄) * (Yi - Ȳ)) / √(Σ(Xi - X̄)² * Σ(Yi - Ȳ)²)\n",
    "\n",
    "\n",
    "import numpy as np\n",
    "\n",
    "def compute_mean(array):\n",
    "    mean = np.sum(array) / len(array)\n",
    "    return mean\n",
    "\n",
    "def compute_correlation(vector1, vector2):\n",
    "    mean1 = compute_mean(vector1)\n",
    "    mean2 = compute_mean(vector2)\n",
    "    covariance = np.sum((vector1 - mean1) * (vector2 - mean2)) / len(vector1)\n",
    "    std_dev1 = np.sqrt(np.sum((vector1 - mean1) ** 2) / len(vector1))\n",
    "    std_dev2 = np.sqrt(np.sum((vector2 - mean2) ** 2) / len(vector2))\n",
    "    correlation = covariance / (std_dev1 * std_dev2)\n",
    "    return correlation\n",
    "\n",
    "def main():\n",
    "    N = int(input(\"Enter the dimension of the vectors: \"))\n",
    "\n",
    "    vector1 = np.array(input(f\"Enter {N} elements for vector 1: \").split(), dtype=float)\n",
    "\n",
    "    vector2 = np.array(input(f\"Enter {N} elements for vector 2: \").split(), dtype=float)\n",
    "\n",
    "    if len(vector1) != N or len(vector2) != N:\n",
    "        print(f\"Error: Vectors must be of length {N}.\")\n",
    "        return\n",
    "\n",
    "    print(\"Vector 1:\", vector1)\n",
    "    print(\"Vector 2:\", vector2)\n",
    "    \n",
    "    correlation = compute_correlation(vector1, vector2)\n",
    "\n",
    "    print(\"Correlation between Vector 1 and Vector 2:\", correlation)\n",
    "\n",
    "if __name__ == \"__main__\":\n",
    "    main()\n"
   ]
  },
  {
   "cell_type": "markdown",
   "id": "811a90c0",
   "metadata": {},
   "source": [
    "### 4) Create a Matrix of MXN dimension representing the M-dimensional feature vector for N number of samples i. e (i,j)th entry of the matrix represents the ith feature of jth sample. Write a program to compute the covariance matrix and correlation matrix. Comment on takeaways from these matrixes."
   ]
  },
  {
   "cell_type": "code",
   "execution_count": 10,
   "id": "08c42ff0",
   "metadata": {},
   "outputs": [
    {
     "name": "stdout",
     "output_type": "stream",
     "text": [
      "Sample data matrix:\n",
      "[[1 5 3]\n",
      " [9 2 3]\n",
      " [4 5 7]]\n",
      "\n",
      "Covariance matrix:\n",
      "[[16.33333333 -6.5        -1.33333333]\n",
      " [-6.5         3.          2.        ]\n",
      " [-1.33333333  2.          5.33333333]]\n",
      "\n",
      "Correlation matrix:\n",
      "[[ 1.         -0.92857143 -0.14285714]\n",
      " [-0.92857143  1.          0.5       ]\n",
      " [-0.14285714  0.5         1.        ]]\n"
     ]
    }
   ],
   "source": [
    "import numpy as np\n",
    "\n",
    "data = np.array([[1,5,3], [9,2,3], [4,5,7]])\n",
    "\n",
    "def compute_covariance(data):\n",
    "    mean = np.mean(data, axis=0)\n",
    "    centered_data = data - mean\n",
    "    covariance = np.cov(centered_data.T)\n",
    "    return covariance\n",
    "\n",
    "def compute_correlation(data):\n",
    "    covariance = compute_covariance(data)\n",
    "    std_dev = np.diag(covariance)**0.5\n",
    "    correlation = covariance / np.outer(std_dev, std_dev)\n",
    "    return correlation\n",
    "\n",
    "print(\"Sample data matrix:\")\n",
    "print(data)\n",
    "\n",
    "covariance_matrix = compute_covariance(data)\n",
    "print(\"\\nCovariance matrix:\")\n",
    "print(covariance_matrix)\n",
    "\n",
    "correlation_matrix = compute_correlation(data)\n",
    "print(\"\\nCorrelation matrix:\")\n",
    "print(correlation_matrix)\n"
   ]
  },
  {
   "cell_type": "code",
   "execution_count": null,
   "id": "83359d84",
   "metadata": {},
   "outputs": [],
   "source": []
  }
 ],
 "metadata": {
  "kernelspec": {
   "display_name": "Python 3 (ipykernel)",
   "language": "python",
   "name": "python3"
  },
  "language_info": {
   "codemirror_mode": {
    "name": "ipython",
    "version": 3
   },
   "file_extension": ".py",
   "mimetype": "text/x-python",
   "name": "python",
   "nbconvert_exporter": "python",
   "pygments_lexer": "ipython3",
   "version": "3.10.9"
  }
 },
 "nbformat": 4,
 "nbformat_minor": 5
}
