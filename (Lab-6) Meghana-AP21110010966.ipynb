{
 "cells": [
  {
   "cell_type": "markdown",
   "id": "e8d5439d",
   "metadata": {},
   "source": [
    "Week-6 AP21110010966"
   ]
  },
  {
   "cell_type": "code",
   "execution_count": 21,
   "id": "6284f8b3",
   "metadata": {},
   "outputs": [],
   "source": [
    "#Implement K-NN Classifier for classification of any dataset of your choice.\n",
    "#    a. Load an existing data set\n",
    "#    b. Split the data set to train and test sets\n",
    "#    c. Test your model using test set. Find accuracy and confusion Matrix.\n",
    "#    d. Examine the effect of the value of K on accuracy/performance. Plot the curve “k vs\n",
    "#    accuracy” and find out the value of k for maximum accuracy for the test samples.\n"
   ]
  },
  {
   "cell_type": "code",
   "execution_count": 20,
   "id": "cb685d0d",
   "metadata": {},
   "outputs": [
    {
     "name": "stdout",
     "output_type": "stream",
     "text": [
      "   Unnamed: 0  total_bill   tip     sex smoker  day    time  size\n",
      "0           0       16.99  1.01  Female     No  Sun  Dinner     2\n",
      "1           1         NaN  1.66    Male     No  Sun  Dinner     3\n",
      "2           2       21.01  3.50    Male     No  Sun  Dinner     3\n",
      "3           3       23.68  3.31    Male     No  Sun  Dinner     2\n",
      "4           4       24.59  3.61  Female     No  Sun  Dinner     4\n"
     ]
    }
   ],
   "source": [
    "import pandas as pd\n",
    "\n",
    "file_path = \"tips.csv\"  \n",
    "drugdata = pd.read_csv(file_path)\n",
    "\n",
    "print(drugdata.head())\n"
   ]
  },
  {
   "cell_type": "code",
   "execution_count": 9,
   "id": "e19239cd",
   "metadata": {},
   "outputs": [
    {
     "name": "stdout",
     "output_type": "stream",
     "text": [
      "   Unnamed: 0  total_bill   tip  sex  smoker  day  time  size\n",
      "0           0       16.99  1.01    0       0    2     0     2\n",
      "1           1         NaN  1.66    1       0    2     0     3\n",
      "2           2       21.01  3.50    1       0    2     0     3\n",
      "3           3       23.68  3.31    1       0    2     0     2\n",
      "4           4       24.59  3.61    0       0    2     0     4\n"
     ]
    }
   ],
   "source": [
    "import pandas as pd\n",
    "from sklearn.preprocessing import LabelEncoder\n",
    "\n",
    "file_path = \"tips.csv\"\n",
    "tips = pd.read_csv(file_path)\n",
    "\n",
    "label_encoders = {}\n",
    "for column in tips.select_dtypes(include=['object']):\n",
    "    label_encoders[column] = LabelEncoder()\n",
    "    tips[column] = label_encoders[column].fit_transform(tips[column])\n",
    "\n",
    "print(tips.head())\n"
   ]
  },
  {
   "cell_type": "code",
   "execution_count": 10,
   "id": "dde96405",
   "metadata": {},
   "outputs": [
    {
     "name": "stdout",
     "output_type": "stream",
     "text": [
      "['70', '', '1.97', 'Male', 'No', 'Sat', 'Dinner', '2']\n",
      "['215', '', '1.1', 'Female', 'Yes', 'Sat', 'Dinner', '2']\n",
      "['75', '', '1.25', 'Male', 'No', 'Sat', 'Dinner', '2']\n",
      "['0', '16.99', '1.01', 'Female', 'No', 'Sun', 'Dinner', '2']\n",
      "['', 'total_bill', 'tip', 'sex', 'smoker', 'day', 'time', 'size']\n",
      "\n",
      "Testing Set:\n",
      "['9', '14.78', '3.23', 'Male', 'No', 'Sun', 'Dinner', '2']\n",
      "['16', '', '1.67', 'Female', 'No', 'Sun', 'Dinner', '3']\n",
      "['30', '9.55', '1.45', 'Male', 'No', 'Sat', 'Dinner', '2']\n",
      "['42', '13.94', '3.06', 'Male', 'No', 'Sun', 'Dinner', '2']\n",
      "['43', '9.68', '1.32', 'Male', 'No', 'Sun', 'Dinner', '2']\n"
     ]
    }
   ],
   "source": [
    "import csv\n",
    "import random\n",
    "\n",
    "def load_csv(filename):\n",
    "    with open(filename, 'r') as file:\n",
    "        csv_reader = csv.reader(file)\n",
    "        data = [row for row in csv_reader]\n",
    "    return data\n",
    "\n",
    "def split_data(dataset, split_ratio=0.8):\n",
    "    dataset_copy = list(dataset)\n",
    "    train_size = int(len(dataset_copy) * split_ratio)\n",
    "    train_set = []\n",
    "    while len(train_set) < train_size:\n",
    "        index = random.randrange(len(dataset_copy))\n",
    "        train_set.append(dataset_copy.pop(index))\n",
    "    return train_set, dataset_copy\n",
    "\n",
    "filename = 'tips.csv'\n",
    "tips_data = load_csv(filename)\n",
    "\n",
    "train_set, test_set = split_data(tips_data, split_ratio=0.8)\n",
    "\n",
    "for row in train_set[:5]:\n",
    "    print(row)\n",
    "\n",
    "print(\"\\nTesting Set:\")\n",
    "for row in test_set[:5]:\n",
    "    print(row)"
   ]
  },
  {
   "cell_type": "code",
   "execution_count": 11,
   "id": "4ab9e2e1",
   "metadata": {},
   "outputs": [
    {
     "name": "stdout",
     "output_type": "stream",
     "text": [
      "X_train shape: (183, 7)\n",
      "X_test shape: (61, 7)\n",
      "y_train shape: (183,)\n",
      "y_test shape: (61,)\n"
     ]
    }
   ],
   "source": [
    "import pandas as pd\n",
    "from sklearn.model_selection import train_test_split\n",
    "\n",
    "file_path = \"tips.csv\"\n",
    "tips = pd.read_csv(file_path)\n",
    "\n",
    "X = tips.drop(columns=['size'])  \n",
    "y = tips['size']\n",
    "\n",
    "X_train, X_test, y_train, y_test = train_test_split(X, y, test_size=0.25, random_state=42)\n",
    "\n",
    "print(\"X_train shape:\", X_train.shape)\n",
    "print(\"X_test shape:\", X_test.shape)\n",
    "print(\"y_train shape:\", y_train.shape)\n",
    "print(\"y_test shape:\", y_test.shape)\n"
   ]
  },
  {
   "cell_type": "code",
   "execution_count": 16,
   "id": "d6b53486",
   "metadata": {},
   "outputs": [
    {
     "name": "stdout",
     "output_type": "stream",
     "text": [
      "Accuracy: 0.6938775510204082\n",
      "Confusion Matrix:\n",
      " [[ 0  2  0  0  0  0]\n",
      " [ 0 29  1  0  0  0]\n",
      " [ 0  5  3  0  0  0]\n",
      " [ 0  4  1  2  0  0]\n",
      " [ 0  0  0  0  0  1]\n",
      " [ 0  0  0  1  0  0]]\n"
     ]
    }
   ],
   "source": [
    "import pandas as pd\n",
    "import numpy as np\n",
    "from sklearn.model_selection import train_test_split\n",
    "from sklearn.preprocessing import LabelEncoder\n",
    "\n",
    "file_path = \"tips.csv\"\n",
    "tips = pd.read_csv(file_path)\n",
    "\n",
    "\n",
    "X = tips.drop(columns=['size'])\n",
    "y = tips['size']\n",
    "\n",
    "label_encoders = {}\n",
    "for column in X.select_dtypes(include=['object']):\n",
    "    label_encoders[column] = LabelEncoder()\n",
    "    X[column] = label_encoders[column].fit_transform(X[column])\n",
    "\n",
    "\n",
    "X_train, X_test, y_train, y_test = train_test_split(X, y, test_size=0.2, random_state=42)\n",
    "\n",
    "def euclidean_distance(x1, x2):\n",
    "    return np.sqrt(np.sum((x1 - x2)**2))\n",
    "\n",
    "def predict(X_train, y_train, X_test, k):\n",
    "    y_pred = []\n",
    "    for test_point in X_test.to_numpy():\n",
    "        \n",
    "        for i, value in enumerate(test_point):\n",
    "            if isinstance(value, str):\n",
    "                test_point[i] = label_encoders[X.columns[i]].transform([value])[0]\n",
    "\n",
    "        distances = [euclidean_distance(test_point, train_point) for train_point in X_train.to_numpy()]\n",
    "        nearest_indices = np.argsort(distances)[:k]\n",
    "        nearest_labels = [y_train.iloc[i] for i in nearest_indices]\n",
    "        y_pred.append(max(set(nearest_labels), key=nearest_labels.count))\n",
    "    return y_pred\n",
    "\n",
    "def accuracy(y_true, y_pred):\n",
    "    correct = sum(1 for true, pred in zip(y_true, y_pred) if true == pred)\n",
    "    return correct / len(y_true)\n",
    "\n",
    "def confusion_matrix(y_true, y_pred, labels):\n",
    "    matrix = np.zeros((len(labels), len(labels)), dtype=int)\n",
    "    label_to_index = {label: i for i, label in enumerate(labels)}\n",
    "    for true, pred in zip(y_true, y_pred):\n",
    "        matrix[label_to_index[true]][label_to_index[pred]] += 1\n",
    "    return matrix\n",
    "\n",
    "k = 5  \n",
    "y_pred = predict(X_train, y_train, X_test, k)\n",
    "\n",
    "acc = accuracy(y_test.to_numpy(), y_pred)\n",
    "conf_matrix = confusion_matrix(y_test.to_numpy(), y_pred, labels=np.unique(y_test))\n",
    "\n",
    "print(\"Accuracy:\", acc)\n",
    "print(\"Confusion Matrix:\\n\", conf_matrix)\n"
   ]
  },
  {
   "cell_type": "code",
   "execution_count": 19,
   "id": "1d304c4f",
   "metadata": {},
   "outputs": [
    {
     "data": {
      "image/png": "[encoded data removed]",
      "text/plain": [
       "<Figure size 640x480 with 1 Axes>"
      ]
     },
     "metadata": {},
     "output_type": "display_data"
    },
    {
     "name": "stdout",
     "output_type": "stream",
     "text": [
      "Value of k for maximum accuracy: 5\n"
     ]
    }
   ],
   "source": [
    "import matplotlib.pyplot as plt\n",
    "\n",
    "\n",
    "def evaluate_knn(X_train, y_train, X_test, y_test, k_values):\n",
    "    accuracies = []\n",
    "    for k in k_values:\n",
    "        y_pred = predict(X_train, y_train, X_test, k)\n",
    "        acc = accuracy(y_test, y_pred)\n",
    "        accuracies.append(acc)\n",
    "    return accuracies\n",
    "\n",
    "\n",
    "k_values = range(1, 10) \n",
    "\n",
    "accuracies = evaluate_knn(X_train, y_train, X_test, y_test, k_values)\n",
    "\n",
    "\n",
    "plt.plot(k_values, accuracies, marker='o')\n",
    "plt.title(\"K vs Accuracy\")\n",
    "plt.xlabel(\"K\")\n",
    "plt.ylabel(\"Accuracy\")\n",
    "plt.xticks(k_values)\n",
    "plt.grid(True)\n",
    "plt.show()\n",
    "\n",
    "max_accuracy = max(accuracies)\n",
    "best_k = k_values[accuracies.index(max_accuracy)]\n",
    "print(\"Value of k for maximum accuracy:\", best_k)"
   ]
  }
 ],
 "metadata": {
  "kernelspec": {
   "display_name": "Python 3 (ipykernel)",
   "language": "python",
   "name": "python3"
  },
  "language_info": {
   "codemirror_mode": {
    "name": "ipython",
    "version": 3
   },
   "file_extension": ".py",
   "mimetype": "text/x-python",
   "name": "python",
   "nbconvert_exporter": "python",
   "pygments_lexer": "ipython3",
   "version": "3.10.9"
  }
 },
 "nbformat": 4,
 "nbformat_minor": 5
}
